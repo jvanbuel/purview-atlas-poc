{
 "cells": [
  {
   "cell_type": "code",
   "execution_count": null,
   "metadata": {},
   "outputs": [],
   "source": [
    "from pyapacheatlas.auth import ServicePrincipalAuthentication\n",
    "from pyapacheatlas.core import PurviewClient\n",
    "from pyapacheatlas.core.util import GuidTracker\n",
    "from dotenv import load_dotenv\n",
    "import os\n",
    "\n",
    "load_dotenv()\n",
    "\n",
    "tenant_id = os.environ.get(\"TENANT_ID\") \n",
    "client_id = os.environ.get(\"CLIENT_ID\")\n",
    "client_secret = os.environ.get(\"CLIENT_SECRET\")\n",
    "account_name = os.environ.get(\"PURVIEW_ACCOUNT\")\n",
    "\n",
    "auth = ServicePrincipalAuthentication(\n",
    "    tenant_id = tenant_id, \n",
    "    client_id = client_id, \n",
    "    client_secret = client_secret\n",
    ")\n",
    "\n",
    "# Create a client to connect to your service.\n",
    "client = PurviewClient(\n",
    "    account_name = account_name,\n",
    "    authentication = auth\n",
    ")\n",
    "\n",
    "gt = GuidTracker()"
   ]
  },
  {
   "cell_type": "code",
   "execution_count": null,
   "metadata": {},
   "outputs": [],
   "source": [
    "client.get_all_typedefs()"
   ]
  },
  {
   "cell_type": "markdown",
   "metadata": {},
   "source": []
  },
  {
   "cell_type": "code",
   "execution_count": null,
   "metadata": {},
   "outputs": [],
   "source": [
    "client.endpoint_url"
   ]
  },
  {
   "cell_type": "code",
   "execution_count": null,
   "metadata": {},
   "outputs": [],
   "source": [
    "client.get_entity(qualifiedName=\"https://purviewatlaspoc.dfs.core.windows.net/datalake/extended_vaccine_data/{SparkPartitions}\", typeName=\"azure_datalake_gen2_resource_set\")"
   ]
  },
  {
   "cell_type": "code",
   "execution_count": null,
   "metadata": {},
   "outputs": [],
   "source": [
    "client.get_relationship(guid='a4021762-cd09-4f75-bf80-ea727e1e13b2')"
   ]
  },
  {
   "cell_type": "code",
   "execution_count": null,
   "metadata": {},
   "outputs": [],
   "source": [
    "client.glossary.get_glossary()"
   ]
  },
  {
   "cell_type": "code",
   "execution_count": null,
   "metadata": {},
   "outputs": [],
   "source": [
    "from pyapacheatlas.core import AtlasClient, AtlasEntity, TypeCategory\n",
    "\n",
    "# Create a Tabular Schema entity\n",
    "ts = AtlasEntity(\n",
    "        name=\"demotabschema\",\n",
    "        typeName=\"tabular_schema\",\n",
    "        qualified_name=\"pyapache://demotabschema\",\n",
    "        guid = -1\n",
    "    )\n",
    "    # Create a Column entity that references your tabular schema\n",
    "col01 = AtlasEntity(\n",
    "        name=\"democolumn\",\n",
    "        typeName=\"column\",\n",
    "        qualified_name=\"pyapche://mycolumn\",\n",
    "        guid= -2,\n",
    "        attributes={\n",
    "            \"type\":\"Blah\",\n",
    "            \"description\": \"blabh blah\"\n",
    "        },\n",
    "        relationshipAttributes = {\n",
    "            \"composeSchema\": ts.to_json(minimum=True)\n",
    "        }\n",
    "    )\n",
    "\n",
    "    # Create a resource set that references the tabular schema\n",
    "rs = AtlasEntity(\n",
    "        name=\"demoresourceset\",\n",
    "        typeName=\"azure_datalake_gen2_resource_set\",\n",
    "        qualified_name=\"pyapache://demors\",\n",
    "        guid = -3,\n",
    "        relationshipAttributes = {\n",
    "            \"tabular_schema\": ts.to_json(minimum=True)\n",
    "        }\n",
    "    )"
   ]
  },
  {
   "cell_type": "code",
   "execution_count": null,
   "metadata": {},
   "outputs": [],
   "source": [
    "## Get datasources\n",
    "\n",
    "import requests\n",
    "\n",
    "client.scan_endpoint_url = \"https://purviewatlaspoc.scan.purview.azure.com\"\n",
    "url = client.scan_endpoint_url + \\\n",
    "    f\"/datasources\"\n",
    "\n",
    "getDataSources = requests.get(\n",
    "    url,\n",
    "    headers =  client.authentication.get_authentication_headers(),\n",
    "    params = { \"api-version\": \"2018-12-01-preview\"}\n",
    ")\n",
    "\n",
    "response = client._handle_response(getDataSources)\n",
    "response"
   ]
  },
  {
   "cell_type": "code",
   "execution_count": null,
   "metadata": {},
   "outputs": [],
   "source": []
  },
  {
   "cell_type": "code",
   "execution_count": null,
   "metadata": {},
   "outputs": [],
   "source": [
    "## Create or update scan\n",
    "import requests\n",
    "\n",
    "scan_name = \"datalakeScan\"\n",
    "data_source = \"AzureDataLakeStorage-ZSB\"\n",
    "\n",
    "client.scan_endpoint_url = \"https://purviewatlaspoc.scan.purview.azure.com\"\n",
    "url = client.scan_endpoint_url + \\\n",
    "    f\"/datasources/{data_source}/scans/{scan_name}\"\n",
    "\n",
    "createOrUpdateScan = requests.put(\n",
    "    url,\n",
    "    headers =  client.authentication.get_authentication_headers(),\n",
    "    params = { \"api-version\": \"2018-12-01-preview\"},\n",
    "    json = {\n",
    "    \"kind\": \"AdlsGen2Msi\",\n",
    "    \"properties\": {\n",
    "        \"scanRulesetName\": \"AdlsGen2\",\n",
    "        \"scanRulesetType\": \"System\",\n",
    "        \"collection\": {\n",
    "            \"referenceName\": account_name,\n",
    "            \"type\": \"CollectionReference\"\n",
    "        }\n",
    "    }\n",
    "}\n",
    ")\n",
    "\n",
    "response = client._handle_response(createOrUpdateScan)\n",
    "response"
   ]
  },
  {
   "cell_type": "code",
   "execution_count": null,
   "metadata": {},
   "outputs": [],
   "source": [
    "account_name"
   ]
  },
  {
   "cell_type": "code",
   "execution_count": null,
   "metadata": {},
   "outputs": [],
   "source": []
  }
 ],
 "metadata": {
  "interpreter": {
   "hash": "12cd73f1a6436e8c8f62fb5a4710859da72797e342b0cc814b066833968a3542"
  },
  "kernelspec": {
   "display_name": "Python 3.10.0 64-bit ('.venv': venv)",
   "name": "python3"
  },
  "language_info": {
   "codemirror_mode": {
    "name": "ipython",
    "version": 3
   },
   "file_extension": ".py",
   "mimetype": "text/x-python",
   "name": "python",
   "nbconvert_exporter": "python",
   "pygments_lexer": "ipython3",
   "version": "3.10.0"
  }
 },
 "nbformat": 4,
 "nbformat_minor": 2
}
