{
 "cells": [
  {
   "cell_type": "code",
   "execution_count": null,
   "metadata": {},
   "outputs": [],
   "source": [
    "from pyapacheatlas.auth import ServicePrincipalAuthentication\n",
    "from pyapacheatlas.core import PurviewClient\n",
    "from pyapacheatlas.core.util import GuidTracker\n",
    "from pyapacheatlas.core import AtlasEntity, AtlasProcess\n",
    "from dotenv import load_dotenv\n",
    "import os\n",
    "\n",
    "load_dotenv()\n",
    "\n",
    "tenant_id = os.environ.get(\"TENANT_ID\") \n",
    "client_id = os.environ.get(\"CLIENT_ID\")\n",
    "client_secret = os.environ.get(\"CLIENT_SECRET\")\n",
    "account_name = os.environ.get(\"PURVIEW_ACCOUNT\")\n",
    "\n",
    "auth = ServicePrincipalAuthentication(\n",
    "    tenant_id = tenant_id, \n",
    "    client_id = client_id, \n",
    "    client_secret = client_secret\n",
    ")\n",
    "\n",
    "# Create a client to connect to your service.\n",
    "client = PurviewClient(\n",
    "    account_name = account_name,\n",
    "    authentication = auth\n",
    ")\n"
   ]
  },
  {
   "cell_type": "code",
   "execution_count": null,
   "metadata": {},
   "outputs": [],
   "source": [
    "client.get_all_typedefs()"
   ]
  },
  {
   "cell_type": "markdown",
   "metadata": {},
   "source": []
  },
  {
   "cell_type": "code",
   "execution_count": null,
   "metadata": {},
   "outputs": [],
   "source": [
    "from pyspark.sql import DataFrame, SparkSession\n",
    "\n",
    "\n",
    "spark = SparkSession.builder.appName(\"test\").getOrCreate()\n",
    "\n",
    "columns = [\"language\",\"users_count\"]\n",
    "data = [(\"Java\", 20000), (\"Python\", 100000), (\"Scala\", 3000)]\n",
    "\n",
    "df = spark.createDataFrame(data).toDF(*columns)\n",
    "df.show()"
   ]
  },
  {
   "cell_type": "code",
   "execution_count": null,
   "metadata": {},
   "outputs": [],
   "source": [
    "def register_df(df: DataFrame, name: str, qualified_name: str):\n",
    "    colEntities = []\n",
    "    guid = 100\n",
    "\n",
    "    ts = AtlasEntity(\n",
    "            name=\"demoDFSchema\",\n",
    "            typeName=\"tabular_schema\",\n",
    "            qualified_name=f\"{qualified_name}_tabular_schema\",\n",
    "            guid = -guid\n",
    "        )\n",
    "\n",
    "    for (col, type) in df.dtypes:\n",
    "        guid +=1\n",
    "        colEntities.append(\n",
    "            AtlasEntity(\n",
    "                name=col,\n",
    "                typeName=\"column\",\n",
    "                qualified_name=f\"{qualified_name}_column_{col}\",\n",
    "                guid= -guid,\n",
    "                attributes={\n",
    "                    \"type\": type,\n",
    "                    \"description\": f\"Column {col} has type {type}\"\n",
    "                },\n",
    "                relationshipAttributes = {\n",
    "                    \"composeSchema\": ts.to_json(minimum=True)\n",
    "                }\n",
    "            )\n",
    "        )\n",
    "\n",
    "    rs = AtlasEntity(\n",
    "            name=name,\n",
    "            typeName=\"azure_datalake_gen2_resource_set\",\n",
    "            qualified_name=qualified_name,\n",
    "            guid = -(guid+1),\n",
    "            relationshipAttributes = {\n",
    "                \"tabular_schema\": ts.to_json(minimum=True)\n",
    "            }\n",
    "        )\n",
    "\n",
    "    return (rs, client.upload_entities([ts, rs, *colEntities]))"
   ]
  },
  {
   "cell_type": "code",
   "execution_count": null,
   "metadata": {},
   "outputs": [],
   "source": [
    "rs, response = register_df(df=df, name=\"testDF\", qualified_name=\"pyapache://testDF\")"
   ]
  },
  {
   "cell_type": "code",
   "execution_count": null,
   "metadata": {},
   "outputs": [],
   "source": [
    "from purviewatlaspoc.common.utils import PurviewPOCClient\n",
    "\n",
    "client = PurviewPOCClient(account_name=account_name, authentication=auth)\n",
    "client.create_delta_table_typedefs()"
   ]
  },
  {
   "cell_type": "code",
   "execution_count": null,
   "metadata": {},
   "outputs": [],
   "source": [
    "from purviewatlaspoc.common.utils import PurviewPOCClient\n",
    "\n",
    "client = PurviewPOCClient(account_name=account_name, authentication=auth)\n",
    "\n",
    "client.register_df(df, \"input1\", \"pyapache://input1DF\")\n",
    "client.register_df(df.alias(\"input2\"), \"input2\", \"pyapache://input2DF\")\n",
    "client.register_df(df.alias(\"output1\"), \"output1\", \"pyapache://output1DF\")\n",
    "\n",
    "process = AtlasProcess(\n",
    "  name=\"test_spark_job\",\n",
    "  qualified_name = \"pyapacheatlas://test_spark_job\",\n",
    "  typeName=\"custom_spark_job_process\",\n",
    "  guid=-20,\n",
    "  attributes = {\"job_type\":\"join\"},\n",
    "  inputs = [client.get_minimal_rep(\"pyapache://input1DF\"), client.get_minimal_rep(\"pyapache://input2DF\")],\n",
    "  outputs = [client.get_minimal_rep(\"pyapache://output1DF\")]\n",
    ")\n",
    "\n",
    "client.upload_entities([process])"
   ]
  },
  {
   "cell_type": "code",
   "execution_count": null,
   "metadata": {},
   "outputs": [],
   "source": [
    "def get_minimal_rep(qualifiedName:str, typeName: str = \"azure_datalake_gen2_resource_set\"):\n",
    "    return {\n",
    "        \"guid\": client.get_entity(qualifiedName=qualifiedName, typeName=typeName)[\"entities\"][0][\"guid\"],\n",
    "        \"typeName\": typeName,\n",
    "        \"qualifiedName\": qualifiedName\n",
    "    }"
   ]
  },
  {
   "cell_type": "code",
   "execution_count": null,
   "metadata": {},
   "outputs": [],
   "source": [
    "get_minimal_rep(qualifiedName=\"pyapache://input1DF\", typeName=\"azure_datalake_gen2_resource_set\")"
   ]
  },
  {
   "cell_type": "code",
   "execution_count": null,
   "metadata": {},
   "outputs": [],
   "source": [
    "client.get_all_typedefs()"
   ]
  },
  {
   "cell_type": "code",
   "execution_count": null,
   "metadata": {},
   "outputs": [],
   "source": [
    "client.delete_entity(\"20f09e4e-ffe4-b226-8b9c-2c591ea752f7\")"
   ]
  },
  {
   "cell_type": "code",
   "execution_count": null,
   "metadata": {},
   "outputs": [],
   "source": [
    "client.get_relationship(guid=\"20f09e4e-ffe4-b226-8b9c-2c591ea752f7\")"
   ]
  },
  {
   "cell_type": "code",
   "execution_count": null,
   "metadata": {},
   "outputs": [],
   "source": []
  }
 ],
 "metadata": {
  "interpreter": {
   "hash": "12cd73f1a6436e8c8f62fb5a4710859da72797e342b0cc814b066833968a3542"
  },
  "kernelspec": {
   "display_name": "Python 3.10.0 64-bit ('.venv': venv)",
   "name": "python3"
  },
  "language_info": {
   "codemirror_mode": {
    "name": "ipython",
    "version": 3
   },
   "file_extension": ".py",
   "mimetype": "text/x-python",
   "name": "python",
   "nbconvert_exporter": "python",
   "pygments_lexer": "ipython3",
   "version": "3.10.0"
  }
 },
 "nbformat": 4,
 "nbformat_minor": 2
}
